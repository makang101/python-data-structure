{
 "cells": [
  {
   "cell_type": "code",
   "execution_count": 24,
   "metadata": {},
   "outputs": [],
   "source": [
    "#链表\n",
    "class Node(object):\n",
    "    def __init__(self, data, nextNode = None ):\n",
    "        self.data = data\n",
    "        self.nextNode = nextNode\n",
    "    \n",
    "    def getData(self):\n",
    "        return self.data\n",
    "    \n",
    "    def setData(self, newdata):\n",
    "        self.data = newdata\n",
    "\n",
    "    def getNext(self):\n",
    "        return self.nextNode\n",
    "    \n",
    "    def setNext(self, newNext):\n",
    "        self.nextNode = newNext\n",
    "        \n",
    "class unorderedList(object):\n",
    "    def __init__(self, head = None):\n",
    "        self.head = head\n",
    "        \n",
    "    def isEmpty(self):\n",
    "        return self.head == None\n",
    "    \n",
    "    def add(self, data):\n",
    "        newNode = Node(data)\n",
    "        newNode.setNext(self.head)\n",
    "        self.head = newNode\n",
    "    \n",
    "    def size(self) :\n",
    "        current = self.head\n",
    "        count = 0 \n",
    "        while current != None:\n",
    "            count += 1\n",
    "            current = current.getNext ()   #\n",
    "        return count\n",
    "    \n",
    "    def search(self, newdata):\n",
    "        current = self.head\n",
    "        found = False\n",
    "        while not found and current != None:\n",
    "            data = current.getData()\n",
    "            if newdata == data:\n",
    "                found = True\n",
    "            else:\n",
    "                current = current.getNext()\n",
    "                \n",
    "        return found\n",
    "    \n",
    "    def remove(self, newdata):\n",
    "        current = self.head\n",
    "        previous = None\n",
    "        found = False\n",
    "        while not found  :\n",
    "            data = current.getData()\n",
    "            if data == newdata:\n",
    "                found = True\n",
    "            else:\n",
    "                previous = current\n",
    "                current = current.getNext()\n",
    "        if previous == None:\n",
    "            self.head = current.getNext()\n",
    "        else :\n",
    "            previous.setNext(current.getNext())"
   ]
  },
  {
   "cell_type": "code",
   "execution_count": null,
   "metadata": {},
   "outputs": [],
   "source": [
    "#有序列表\n",
    "def orderdedList(object):\n",
    "    def __init__(self, head = None):\n",
    "        self.head = head\n",
    "    \n",
    "    def search(self,item):\n",
    "        current = self.head\n",
    "        found = False\n",
    "        stop = False\n",
    "        while current != None and not found and not stop:\n",
    "            if current.getData() == item:\n",
    "                found = True\n",
    "            else:\n",
    "                if current.getData() > item:\n",
    "                    stop = True\n",
    "                else:\n",
    "                    current = current.getNext()\n",
    "\n",
    "    return found\n",
    "    \n",
    "    def add(self,item):\n",
    "        current = self.head\n",
    "        previous = None\n",
    "        stop = False\n",
    "        while current != None and not stop:\n",
    "            if current.getData() > item:\n",
    "                stop = True\n",
    "            else:\n",
    "                previous = current\n",
    "                current = current.getNext()\n",
    "\n",
    "        temp = Node(item)\n",
    "        if previous == None:\n",
    "            temp.setNext(self.head)\n",
    "            self.head = temp\n",
    "        else:\n",
    "            temp.setNext(current)\n",
    "            previous.setNext(temp)"
   ]
  },
  {
   "cell_type": "code",
   "execution_count": 25,
   "metadata": {},
   "outputs": [],
   "source": [
    "mylist = unorderedList()\n",
    "mylist.add(31)\n",
    "mylist.add(77)\n",
    "mylist.add(17)\n",
    "mylist.add(93)\n",
    "mylist.add(26)\n",
    "mylist.add(54)"
   ]
  },
  {
   "cell_type": "code",
   "execution_count": 26,
   "metadata": {},
   "outputs": [
    {
     "name": "stdout",
     "output_type": "stream",
     "text": [
      "6\n",
      "5\n"
     ]
    }
   ],
   "source": [
    "print(mylist.size())\n",
    "mylist.search(17)\n",
    "mylist.remove(31)\n",
    "print(mylist.size())"
   ]
  },
  {
   "cell_type": "code",
   "execution_count": null,
   "metadata": {},
   "outputs": [],
   "source": []
  }
 ],
 "metadata": {
  "kernelspec": {
   "display_name": "Python 3",
   "language": "python",
   "name": "python3"
  },
  "language_info": {
   "codemirror_mode": {
    "name": "ipython",
    "version": 3
   },
   "file_extension": ".py",
   "mimetype": "text/x-python",
   "name": "python",
   "nbconvert_exporter": "python",
   "pygments_lexer": "ipython3",
   "version": "3.6.4"
  }
 },
 "nbformat": 4,
 "nbformat_minor": 2
}
