{
 "cells": [
  {
   "cell_type": "code",
   "execution_count": null,
   "metadata": {},
   "outputs": [],
   "source": [
    "#pythonds模块包含很多讨论的所有数据结构的实现 ：基本数据结构（栈、队列、queues\\列表）、树、图\n",
    "from pythonds.basic.stack import Stack"
   ]
  },
  {
   "cell_type": "code",
   "execution_count": 1,
   "metadata": {},
   "outputs": [],
   "source": [
    "#栈\n",
    "class Stack(object):\n",
    "    def __init__(self, ):\n",
    "        self.items = list() \n",
    "    \n",
    "    def isEmpty(self):\n",
    "        return self.items == []\n",
    "    def size(self):\n",
    "        return len(self.items)\n",
    "    def push(self, item):\n",
    "        self.items.append( item)\n",
    "    def pop(self):\n",
    "        return self.items.pop()\n",
    "    def peek(self):\n",
    "        return self.items[-1]"
   ]
  },
  {
   "cell_type": "code",
   "execution_count": null,
   "metadata": {},
   "outputs": [],
   "source": [
    "# 判断括号匹配\n",
    "def parChecker(symbolString):\n",
    "    s = Stack()\n",
    "    balance = True\n",
    "    index = 0\n",
    "    \n",
    "    while index < len(symbolString) and balance:\n",
    "        symbol = symbolString[index]\n",
    "        if symbol in '([{':\n",
    "            s.push(symbol)\n",
    "        else:\n",
    "            if s.isEmpty():\n",
    "                balance = False\n",
    "                break\n",
    "            else:\n",
    "                top = s.pop()\n",
    "                if not matches(top, symbol):\n",
    "                    balance = False\n",
    "        index += 1\n",
    "        \n",
    "    if balance and s.isEmpty():\n",
    "        return True\n",
    "    else:\n",
    "        return False\n",
    "\n",
    "def matches(open,close):\n",
    "    opens = \"([{\"\n",
    "    closers = \")]}\"\n",
    "    return opens.index(open) == closers.index(close)\n",
    "    \n",
    "print(parChecker('[(()){}]'))\n",
    "print(parChecker(''))\n",
    "print(parChecker('()()))'))\n",
    "print(parChecker('[{}]('))"
   ]
  },
  {
   "cell_type": "code",
   "execution_count": null,
   "metadata": {},
   "outputs": [],
   "source": [
    "#十进制转二进制\n",
    "def dec2bin(num):\n",
    "    s = Stack()\n",
    "    while num > 0:\n",
    "        r = num % 2\n",
    "        s.push(r)\n",
    "        num //= 2\n",
    "    binstring = ''\n",
    "    while not s.isEmpty():\n",
    "        binstring = binstring + str(s.pop())\n",
    "    \n",
    "    return binstring\n",
    "dec2bin(233)"
   ]
  },
  {
   "cell_type": "code",
   "execution_count": 14,
   "metadata": {},
   "outputs": [
    {
     "name": "stdout",
     "output_type": "stream",
     "text": [
      "['A', '*', 'B', '+', 'C', '*', 'D']\n",
      "A B * C D * +\n",
      "['A', '+', 'B', '*', 'C', '+', 'D']\n",
      "A B C * + D +\n",
      "['(', 'A', '+', 'B', ')', '*', '(', 'C', '+', 'D', ')']\n",
      "A B + C D + *\n"
     ]
    }
   ],
   "source": [
    "#中缀表达式转换为后缀表达式\n",
    "def infix2Posfix(exp):\n",
    "    prec = {}\n",
    "    prec['('] = 1\n",
    "    prec['+'] = 2\n",
    "    prec['-'] = 2\n",
    "    prec['*'] = 3\n",
    "    prec['/'] = 3\n",
    "    s = Stack()\n",
    "    postfixList = []\n",
    "    tokenList = exp.split()\n",
    "    print(tokenList)\n",
    "    for token in tokenList:\n",
    "#         print(token)\n",
    "        if token in \"ABCDEFGHIJKLMNOPQRSTUVWXYZ\" or token in \"0123456789\":\n",
    "            postfixList.append(token)\n",
    "        elif token == '(':\n",
    "            s.push(token)\n",
    "        elif token == ')':\n",
    "            top = s.pop()\n",
    "            while top != '(':\n",
    "                postfixList.append(top)\n",
    "                top = s.pop()\n",
    "#             s.pop()\n",
    "        else:\n",
    "#             top = s.peek()\n",
    "            while (not s.isEmpty() and prec[token] <= prec[s.peek()] ):\n",
    "                postfixList.append(s.pop())\n",
    "#                 print(s.size())\n",
    "                \n",
    "            s.push(token)\n",
    "    while not s.isEmpty():\n",
    "        postfixList.append(s.pop())\n",
    "    \n",
    "    return ' '.join(postfixList)\n",
    "\n",
    "s = 'A * B + C * D'\n",
    "s1 = 'A + B * C + D'\n",
    "s2 = '( A + B ) * ( C + D )'\n",
    "print(infix2Posfix(s))\n",
    "print(infix2Posfix(s1))\n",
    "print(infix2Posfix(s2))"
   ]
  },
  {
   "cell_type": "code",
   "execution_count": 16,
   "metadata": {},
   "outputs": [
    {
     "name": "stdout",
     "output_type": "stream",
     "text": [
      "3.0\n"
     ]
    }
   ],
   "source": [
    "#后缀表达式求值\n",
    "def postfixEval(postfixexp):\n",
    "    s = Stack()\n",
    "    postfixList = postfixexp.split()\n",
    "    for token in postfixList:\n",
    "        if token in '+-*/':\n",
    "            op2 = s.pop()\n",
    "            op1 = s.pop()\n",
    "            val = doMath(token, int(op1), int(op2))\n",
    "            s.push(val)\n",
    "        else:\n",
    "            s.push(token)\n",
    "        \n",
    "    return s.pop()\n",
    "\n",
    "def doMath(op, op1, op2):\n",
    "    if op == \"*\":\n",
    "        return op1 * op2\n",
    "    elif op == \"/\":\n",
    "        return op1 / op2\n",
    "    elif op == \"+\":\n",
    "        return op1 + op2\n",
    "    else:\n",
    "        return op1 - op2       \n",
    "\n",
    "print(postfixEval('7 8 + 3 2 + /'))"
   ]
  },
  {
   "cell_type": "code",
   "execution_count": null,
   "metadata": {},
   "outputs": [],
   "source": []
  }
 ],
 "metadata": {
  "kernelspec": {
   "display_name": "Python 3",
   "language": "python",
   "name": "python3"
  },
  "language_info": {
   "codemirror_mode": {
    "name": "ipython",
    "version": 3
   },
   "file_extension": ".py",
   "mimetype": "text/x-python",
   "name": "python",
   "nbconvert_exporter": "python",
   "pygments_lexer": "ipython3",
   "version": "3.6.4"
  }
 },
 "nbformat": 4,
 "nbformat_minor": 2
}
