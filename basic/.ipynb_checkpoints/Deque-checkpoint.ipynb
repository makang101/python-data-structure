{
 "cells": [
  {
   "cell_type": "code",
   "execution_count": 3,
   "metadata": {},
   "outputs": [],
   "source": [
    "#dequeue\n",
    "class Deque(object):\n",
    "    def __init__(self):\n",
    "        self.items = list()\n",
    "        \n",
    "    def addFront(self, item):\n",
    "        self.items.insert(0, item)\n",
    "    \n",
    "    def addRear(self, item):\n",
    "        self.items.append(item)\n",
    "    \n",
    "    def removeFront(self):\n",
    "        return self.items.pop(0)\n",
    "    \n",
    "    def removeRear(self):\n",
    "        return self.items.pop()\n",
    "    \n",
    "    def isEmpty(self):\n",
    "        return self.items == []\n",
    "    \n",
    "    def size(self):\n",
    "        return len(self.items)"
   ]
  },
  {
   "cell_type": "code",
   "execution_count": 8,
   "metadata": {},
   "outputs": [
    {
     "name": "stdout",
     "output_type": "stream",
     "text": [
      "False\n",
      "True\n"
     ]
    }
   ],
   "source": [
    "#回文检查\n",
    "def palchecker(aString):\n",
    "    deque = Deque()\n",
    "    \n",
    "    for s in aString:\n",
    "        deque.addRear(s)\n",
    "    \n",
    "    font = deque.removeFront()\n",
    "    rear = deque.removeRear()\n",
    "    flag = True\n",
    "    while deque.size() > 1 and flag:\n",
    "        font = deque.removeFront()\n",
    "        rear = deque.removeRear()\n",
    "        if font != rear:\n",
    "            flag = False\n",
    "            break\n",
    "    return flag\n",
    "print(palchecker(\"abjlksdj\"))\n",
    "print(palchecker(\"abccba\"))"
   ]
  }
 ],
 "metadata": {
  "kernelspec": {
   "display_name": "Python 3",
   "language": "python",
   "name": "python3"
  },
  "language_info": {
   "codemirror_mode": {
    "name": "ipython",
    "version": 3
   },
   "file_extension": ".py",
   "mimetype": "text/x-python",
   "name": "python",
   "nbconvert_exporter": "python",
   "pygments_lexer": "ipython3",
   "version": "3.6.4"
  }
 },
 "nbformat": 4,
 "nbformat_minor": 2
}
