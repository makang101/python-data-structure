{
 "cells": [
  {
   "cell_type": "code",
   "execution_count": 11,
   "metadata": {},
   "outputs": [],
   "source": [
    "node_list = [\n",
    "    {'data': 'A', 'left': 'B', 'right': 'C', 'is_root': True},\n",
    "    {'data': 'B', 'left': 'D', 'right': 'E', 'is_root': False},\n",
    "    {'data': 'D', 'left': None, 'right': None, 'is_root': False},\n",
    "    {'data': 'E', 'left': 'H', 'right': None, 'is_root': False},\n",
    "    {'data': 'H', 'left': None, 'right': None, 'is_root': False},\n",
    "    {'data': 'C', 'left': 'F', 'right': 'G', 'is_root': False},\n",
    "    {'data': 'F', 'left': None, 'right': None, 'is_root': False},\n",
    "    {'data': 'G', 'left': 'I', 'right': 'J', 'is_root': False},\n",
    "    {'data': 'I', 'left': None, 'right': None, 'is_root': False},\n",
    "    {'data': 'J', 'left': None, 'right': None, 'is_root': False},\n",
    "]\n",
    "\n",
    "#定义节点类\n",
    "class BinTreeNode(object):\n",
    "    def __init__(self, data, left = None, right = None):\n",
    "        self.data = data\n",
    "        self.left = left\n",
    "        self.right = right\n",
    "\n",
    "#定义二叉树类\n",
    "class BinTree(object):\n",
    "    def __init__(self, root = None, ):\n",
    "        self.root = root\n",
    "    \n",
    "    @classmethod\n",
    "    def build_from(cls, node_list):\n",
    "        \"\"\" \"\"\"\n",
    "        node_dict = {}\n",
    "        for node_data in node_list:\n",
    "            data = node_data['data']\n",
    "            node_dict[data] = BinTreeNode(data)\n",
    "        for node_data in node_list:\n",
    "            data = node_data['data']\n",
    "            node = node_dict[data]\n",
    "            if node_data['is_root']:\n",
    "                root = node\n",
    "            node.left = node_dict.get(node_data['left'])\n",
    "            node.right = node_dict.get(node_data['right'])\n",
    "        return cls(root)\n",
    "btree = BinTree.build_from(node_list)"
   ]
  },
  {
   "cell_type": "code",
   "execution_count": 15,
   "metadata": {},
   "outputs": [
    {
     "data": {
      "text/plain": [
       "'B'"
      ]
     },
     "execution_count": 15,
     "metadata": {},
     "output_type": "execute_result"
    }
   ],
   "source": [
    "btree.root.left.data"
   ]
  },
  {
   "cell_type": "code",
   "execution_count": 24,
   "metadata": {},
   "outputs": [],
   "source": [
    "#定义二叉树类\n",
    "class BinaryTree(object):\n",
    "    def __init__(self, root, left = None, right = None):\n",
    "        self.root = root\n",
    "        self.left = left\n",
    "        self.right = right\n",
    "    \n",
    "    def getRoot(self):\n",
    "        return self.root\n",
    "    def setRoot(self, root):\n",
    "        self.root = root\n",
    "    \n",
    "    def getLeft(self):\n",
    "        return self.left\n",
    "    def getRight(self):\n",
    "        return self.right\n",
    "    \n",
    "    #向树中添加左子树\n",
    "    def insertLeft(self, newNode):\n",
    "        if self.left == None:\n",
    "            self.left = BinaryTree(newNode)\n",
    "        else:                #左子树具有节点，放到下一层\n",
    "            t = BinaryTree(newNode)\n",
    "            t.left = self.left\n",
    "            self.left = t    \n",
    "    #向树中添加右子树\n",
    "    def insertRight(self, newNode):\n",
    "        if self.right == None:\n",
    "            self.right = BinaryTree(newNode)\n",
    "        else:\n",
    "            t = BinaryTree(newNode)\n",
    "            t.right = self.right\n",
    "            self.right = t\n",
    "            \n",
    "    #遍历树\n",
    "    def preorder(self):\n",
    "        print(self.root)\n",
    "        if self.left:\n",
    "            self.left.preorder()\n",
    "        if self.right:\n",
    "            self.right.preorder()\n",
    "            "
   ]
  },
  {
   "cell_type": "code",
   "execution_count": 31,
   "metadata": {},
   "outputs": [],
   "source": [
    "#前序遍历树的外部函数\n",
    "def preorder(tree):\n",
    "    if tree:\n",
    "        print(tree.getRoot())\n",
    "        preorder(tree.getLeft())\n",
    "        preorder(tree.getRight())\n",
    "#后序遍历树的外部函数\n",
    "def postorder(tree):\n",
    "    if tree:\n",
    "        postorder(tree.getLeft())\n",
    "        postorder(tree.getRight())\n",
    "        print(tree.getRoot())\n",
    "#中序遍历树的外部函数\n",
    "def midorder(tree):\n",
    "    if tree:\n",
    "        midorder(tree.getLeft())\n",
    "        print(tree.getRoot())\n",
    "        midorder(tree.getRight())\n",
    "        "
   ]
  },
  {
   "cell_type": "code",
   "execution_count": 25,
   "metadata": {},
   "outputs": [
    {
     "name": "stdout",
     "output_type": "stream",
     "text": [
      "a\n",
      "None\n",
      "<__main__.BinaryTree object at 0x0000000006F24128>\n",
      "b\n",
      "<__main__.BinaryTree object at 0x0000000005CF7B38>\n",
      "c\n",
      "hello\n"
     ]
    }
   ],
   "source": [
    "r = BinaryTree('a')\n",
    "print(r.getRoot())\n",
    "print(r.getLeft())\n",
    "r.insertLeft('b')\n",
    "print(r.getLeft())\n",
    "print(r.getLeft().getRoot())\n",
    "r.insertRight('c')\n",
    "print(r.getRight())\n",
    "print(r.getRight().getRoot())\n",
    "r.getRight().setRoot('hello')\n",
    "print(r.getRight().getRoot())"
   ]
  }
 ],
 "metadata": {
  "kernelspec": {
   "display_name": "Python 3",
   "language": "python",
   "name": "python3"
  },
  "language_info": {
   "codemirror_mode": {
    "name": "ipython",
    "version": 3
   },
   "file_extension": ".py",
   "mimetype": "text/x-python",
   "name": "python",
   "nbconvert_exporter": "python",
   "pygments_lexer": "ipython3",
   "version": "3.6.4"
  }
 },
 "nbformat": 4,
 "nbformat_minor": 2
}
