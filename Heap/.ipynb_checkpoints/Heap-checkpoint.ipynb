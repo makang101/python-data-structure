{
 "cells": [
  {
   "cell_type": "code",
   "execution_count": 7,
   "metadata": {},
   "outputs": [],
   "source": [
    "#已有包\n",
    "#from pythonds.trees.binheap import BinHeap\n",
    "class BinHeap(object):\n",
    "    def __init__(self):\n",
    "        self.heapList = [0]\n",
    "        self.currentSize = 0\n",
    "    \n",
    "    def insert(self, item):\n",
    "        self.heapList.append(item)\n",
    "        self.currentSize += 1 \n",
    "        self.percUp(self.currentSize)\n",
    "        \n",
    "    def percUp(self, i):\n",
    "        while i//2 > 0:\n",
    "            if self.heapList[i] < self.heapList[i//2]:\n",
    "                tmp = self.heapList[i//2]\n",
    "                self.heapList[i//2] = self.heapList[i]\n",
    "                self.heapList[i] = tmp\n",
    "            i = i//2\n",
    "    \n",
    "    def percDown(self, i):\n",
    "        while 2*i < self.currentSize:\n",
    "            mc = self.minChild(i)\n",
    "            if self.heapList[i] > self.heapList[mc]:\n",
    "                tmp = self.heapList[mc]\n",
    "                self.heapList[mc] = self.heapList[i]\n",
    "                self.heapList[i] = tmp\n",
    "            i = mc\n",
    "            \n",
    "    def minChild(self, i):\n",
    "        if 2 * i + 1 > self.currentSize:\n",
    "            return 2 * i\n",
    "        else:\n",
    "            if self.heapList[2*i] < self.heapList[2*i+1]:\n",
    "                return 2 * i\n",
    "            else:\n",
    "                return 2 * i + 1\n",
    "    \n",
    "    def delMin(self,):\n",
    "        retval = self.heapList[1]\n",
    "        self.heapList[1] = self.heapList[self.currentSize]\n",
    "        self.currentSize -= 1\n",
    "        self.percDown(1)\n",
    "        return retval\n",
    "    \n",
    "    def buildHeap(self, alist):\n",
    "        i = len(alist)//2\n",
    "        self.currentSize = len(alist)\n",
    "        self.heapList = [0] + alist[:]\n",
    "        while i>0:\n",
    "            self.percDown(i)\n",
    "            i -= 1"
   ]
  },
  {
   "cell_type": "code",
   "execution_count": 9,
   "metadata": {},
   "outputs": [
    {
     "name": "stdout",
     "output_type": "stream",
     "text": [
      "1\n",
      "2\n",
      "3\n",
      "4\n",
      "5\n"
     ]
    }
   ],
   "source": [
    "#heapSort\n",
    "bh = BinHeap()\n",
    "bh.buildHeap([9,5,6,2,3,1,8,4])\n",
    "\n",
    "print(bh.delMin())\n",
    "print(bh.delMin())\n",
    "print(bh.delMin())\n",
    "print(bh.delMin())\n",
    "print(bh.delMin())"
   ]
  },
  {
   "cell_type": "code",
   "execution_count": null,
   "metadata": {},
   "outputs": [],
   "source": []
  }
 ],
 "metadata": {
  "kernelspec": {
   "display_name": "Python 3",
   "language": "python",
   "name": "python3"
  },
  "language_info": {
   "codemirror_mode": {
    "name": "ipython",
    "version": 3
   },
   "file_extension": ".py",
   "mimetype": "text/x-python",
   "name": "python",
   "nbconvert_exporter": "python",
   "pygments_lexer": "ipython3",
   "version": "3.6.4"
  }
 },
 "nbformat": 4,
 "nbformat_minor": 2
}
